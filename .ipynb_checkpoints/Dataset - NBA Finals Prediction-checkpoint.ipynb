{
 "cells": [
  {
   "cell_type": "markdown",
   "metadata": {},
   "source": [
    "# Predicting the 2020-2021 NBA Finals\n",
    "### Background/Overview\n",
    "As an NBA fan and a Computer Science student, I have been fascinated by the statistics that we can gather and observe around the NBA.\n",
    "\n",
    "As the NBA 2020-2021 season is nearing its end, we are close to seeing which NBA teams will reach the finals and get the ring. Two teams from the eastern and western conference will battle it out and become NBA champions.\n",
    "\n",
    "So far, the Western conference already has its finalists: the Phoenix Suns led by Future NBA Hall of Famer Chris Paul and Rising NBA star Devin Booker, and the Los Angeles Clippers led by NBA Superstars Kawhi Leonard and Paul George. On the other hand, the Eastern Conference semifinals has not yet ended. With Brooklyn Nets tied with Milwaukee Bucks at 3-3 and the Philadelphia 76ers tied with Atlanta Hawks at 3-3 as well. We are yet to see who will face each other in the Eastern conference finals.\n",
    "\n",
    "This machine learning project will predict the outcome between which of these teams will reach the Finals and the Championship."
   ]
  },
  {
   "cell_type": "markdown",
   "metadata": {},
   "source": [
    "## First phase: Develop a mini data set\n",
    "We collect and gather data from [Basketball Reference](https://www.basketball-reference.com/)."
   ]
  },
  {
   "cell_type": "markdown",
   "metadata": {},
   "source": [
    "#### The Four Factors\n",
    "The Four Factors are the box score derived metrics that correlate most closely with winning a game. Likewise, these factors also identify a team's strategic strenghts and weaknesses. This can be applied to both a team's offense and defense. More at [NBAstuffer](https://www.nbastuffer.com/analytics101/four-factors/)."
   ]
  },
  {
   "cell_type": "markdown",
   "metadata": {},
   "source": [
    "## The Western Conference\n",
    "We first need to gather the four factors from the performance of each conference finalist, like so."
   ]
  },
  {
   "cell_type": "markdown",
   "metadata": {},
   "source": [
    "### Phoenix Suns\n",
    "The Phoenix Suns were the first team on the Western Conference to reach the conference finals. Beforehand, they swept the Denver Nuggets 4-0."
   ]
  },
  {
   "cell_type": "code",
   "execution_count": null,
   "metadata": {},
   "outputs": [],
   "source": [
    "# import the needed libraries\n",
    "%matplotlib inline\n",
    "from bs4 import BeautifulSoup as bs, Comment\n",
    "from pip._vendor import requests as rq\n",
    "import pandas as pd\n",
    "import numpy as np\n",
    "import seaborn as sns\n",
    "import matplotlib.pyplot as plt\n",
    "import math"
   ]
  },
  {
   "cell_type": "code",
   "execution_count": null,
   "metadata": {},
   "outputs": [],
   "source": [
    "# After prototyping which to extract from the website, we write a function\n",
    "# that extracts the needed data\n",
    "def extractSuns():\n",
    "    websiteURL = 'https://www.basketball-reference.com/playoffs/2021-nba-western-conference-semifinals-nuggets-vs-suns.html'\n",
    "    pageInstance = rq.get(websiteURL)\n",
    "    \n",
    "    soup = bs(pageInstance.content, 'html.parser')\n",
    "    table_fourFactors = soup.findAll(\"table\", {\"id\":\"four_factors\"}) # select table with id=four_factors\n",
    "    "
   ]
  },
  {
   "cell_type": "code",
   "execution_count": 1,
   "metadata": {},
   "outputs": [],
   "source": [
    "from pip._vendor import requests as rq\n",
    "from bs4 import BeautifulSoup as bs, Comment\n",
    "import pandas as pd"
   ]
  },
  {
   "cell_type": "code",
   "execution_count": 27,
   "metadata": {},
   "outputs": [],
   "source": [
    "def extractPHX():\n",
    "    # establish connection to the website\n",
    "    url = 'https://www.basketball-reference.com/playoffs/2021-nba-western-conference-semifinals-nuggets-vs-suns.html'\n",
    "    pageInstance = rq.get(url)\n",
    "    \n",
    "    soup = bs(pageInstance.content, 'html.parser')\n",
    "    \n",
    "    # after evaluating the webpage, we check the data we need\n",
    "    # using beautifulsoup library, find all divs with an id of 'all_four_factors'\n",
    "    div_allFourFactors = soup.findAll(\"div\", {\"id\":\"all_four_factors\"})\n",
    "    \n",
    "    # after a bit of prototyping, we store the first index to a variable\n",
    "    # The data that we need is embedded in an HTML comment\n",
    "    \n",
    "    # after prototyping, we see that the data we need cannot be obtained\n",
    "    # due to it being an HTML comment tag\n",
    "    # hence, we use an external service such as HTML formatter and Line Break Removal\n",
    "    # hence, we paste the copied comment and store it in a variable\n",
    "    raw_dataset = \"<div class=\\\"table_container\\\" id=\\\"div_four_factors\\\"> <table class=\\\"suppress_all stats_table\\\" id=\\\"four_factors\\\" data-cols-to-freeze=\\\",1\\\"> <caption>Four Factors Table</caption> <colgroup> <col> <col> <col> <col> <col> <col> <col> <col> </colgroup> <thead> <tr class=\\\"over_header\\\"> <th aria-label=\\\"\\\" data-stat=\\\"\\\" colspan=\\\"2\\\" class=\\\" over_header center\\\" ></th> <th aria-label=\\\"\\\" data-stat=\\\"header_tmp\\\" colspan=\\\"4\\\" class=\\\" over_header center\\\" >Four Factors</th> <th></th> <th></th> </tr> <tr> <th aria-label=\\\"Team\\\" data-stat=\\\"team_id\\\" scope=\\\"col\\\" class=\\\" poptip sort_default_asc left\\\" data-tip=\\\"Team\\\" >&nbsp;</th> <th aria-label=\\\"Pace Factor\\\" data-stat=\\\"pace\\\" scope=\\\"col\\\" class=\\\" poptip right\\\" data-tip=\\\"<b>Pace Factor</b>: An estimate of possessions per 48 minutes\\\" >Pace</th> <th aria-label=\\\"Effective Field Goal Percentage\\\" data-stat=\\\"efg_pct\\\" scope=\\\"col\\\" class=\\\" poptip center\\\" data-tip=\\\"<strong>Effective Field Goal Percentage</strong><br>This statistic adjusts for the fact that a 3-point field goal is worth one more point than a 2-point field goal.\\\" data-over-header=\\\"Four Factors\\\" >eFG%</th> <th aria-label=\\\"Turnover Percentage\\\" data-stat=\\\"tov_pct\\\" scope=\\\"col\\\" class=\\\" poptip sort_default_asc center\\\" data-tip=\\\"<b>Turnover Percentage</b><br>An estimate of turnovers committed per 100 plays.\\\" data-over-header=\\\"Four Factors\\\" >TOV%</th> <th aria-label=\\\"Offensive Rebound Percentage\\\" data-stat=\\\"orb_pct\\\" scope=\\\"col\\\" class=\\\" poptip center\\\" data-tip=\\\"<b>Offensive Rebound Percentage</b><br>An estimate of the percentage of available offensive rebounds a player grabbed while they were on the floor.\\\" data-over-header=\\\"Four Factors\\\" >ORB%</th> <th aria-label=\\\"Free Throws Per Field Goal Attempt\\\" data-stat=\\\"ft_rate\\\" scope=\\\"col\\\" class=\\\" poptip right\\\" data-tip=\\\"Free Throws Per Field Goal Attempt\\\" data-over-header=\\\"Four Factors\\\" >FT/FGA</th> <th aria-label=\\\"Offensive Rating\\\" data-stat=\\\"off_rtg\\\" scope=\\\"col\\\" class=\\\" poptip center\\\" data-tip=\\\"<b>Offensive Rating</b><br>An estimate of points produced (players) or scored (teams) per 100 possessions\\\" >ORtg</th> <th aria-label=\\\"Points\\\" data-stat=\\\"pts\\\" scope=\\\"col\\\" class=\\\" poptip center\\\" data-tip=\\\"Points\\\" data-over-header=\\\"Totals\\\" >PTS</th> </tr> </thead> <tbody> <tr > <th scope=\\\"row\\\" class=\\\"left \\\" data-stat=\\\"team_id\\\" ><a href=\\\"/teams/PHO/2021.html\\\">PHO</a> (4-0)</th> <td class=\\\"right \\\" data-stat=\\\"pace\\\" >98.0</td> <td class=\\\"right plus\\\" data-stat=\\\"efg_pct\\\" >.590</td> <td class=\\\"right minus\\\" data-stat=\\\"tov_pct\\\" >10.1</td> <td class=\\\"right minus\\\" data-stat=\\\"orb_pct\\\" >17.4</td> <td class=\\\"right plus\\\" data-stat=\\\"ft_rate\\\" >.229</td> <td class=\\\"right \\\" data-stat=\\\"off_rtg\\\" >124.0</td> <td class=\\\"right \\\" data-stat=\\\"pts\\\" >121.5</td> </tr> <tr > <th scope=\\\"row\\\" class=\\\"left \\\" data-stat=\\\"team_id\\\" ><a href=\\\"/teams/DEN/2021.html\\\">DEN</a> (0-4)</th> <td class=\\\"right \\\" data-stat=\\\"pace\\\" >98.0</td> <td class=\\\"right minus\\\" data-stat=\\\"efg_pct\\\" >.509</td> <td class=\\\"right plus\\\" data-stat=\\\"tov_pct\\\" >9.8</td> <td class=\\\"right plus\\\" data-stat=\\\"orb_pct\\\" >23.2</td> <td class=\\\"right minus\\\" data-stat=\\\"ft_rate\\\" >.109</td> <td class=\\\"right \\\" data-stat=\\\"off_rtg\\\" >107.9</td> <td class=\\\"right \\\" data-stat=\\\"pts\\\" >105.8</td> </tr> </table> </div>\\n\"\n",
    "    # then, we parse the comment\n",
    "    soup = bs(raw_dataset, 'lxml')\n",
    "    \n",
    "    # Extracting the HTML tags embedded from the HTML comments\n",
    "    #for comment in soup.findAll(text=lambda text:isinstance(text,Comment)):\n",
    "    #    html_comment = comment\n",
    "        \n",
    "    #commentSoup = bs(html_comment, 'lxml')\n",
    "    #getTable = commentSoup.findAll('table', {'id':'four_factors'})\n",
    "        \n",
    "    #for t in getTable:\n",
    "    #    PHX_HashMap = {}\n",
    "    #    firstRow = t.find('tbody')\n",
    "    #    PHX_HashMap['PHX'] = {}\n",
    "    #    concentrateFirstRow = firstRow.findAll('td')\n",
    "    #    # loop through all the columns on the first row\n",
    "    #    for firstRowData in concentrateFirstRow:\n",
    "    #        getFirstRowAttr = firstRowData.get('data-stat')\n",
    "    #        extracted = firstRowData.get_text().strip()\n",
    "    #        PHX_HashMap['PHX'][getFirstRowAttr] = extracted\n",
    "    #print(soup)    \n",
    "    #print(soup.text)\n",
    "    \n",
    "    for text in soup:\n",
    "        PHX_HashMap = {}\n",
    "        firstRow = text.find('tbody')\n",
    "        PHX_HashMap['PHX'] = {}\n",
    "        concentrateFirstRow = firstRow.findAll('td')\n",
    "        for firstRowData in concentrateFirstRow:\n",
    "            getFirstRowAttr = firstRowData.get('data-stat')\n",
    "            extracted = firstRowData.get_text().strip()\n",
    "            PHX_HashMap['PHX'][getFirstRowAttr] = extracted\n",
    "            \n",
    "    df = pd.DataFrame(PHX_HashMap)\n",
    "    df_t = df.T\n",
    "    #print(df_t)\n",
    "    df_t.to_csv('PHX_FourFactors.csv')"
   ]
  },
  {
   "cell_type": "code",
   "execution_count": 28,
   "metadata": {},
   "outputs": [],
   "source": [
    "if __name__ == \"__main__\":\n",
    "    extractPHX()"
   ]
  },
  {
   "cell_type": "code",
   "execution_count": null,
   "metadata": {},
   "outputs": [],
   "source": []
  }
 ],
 "metadata": {
  "kernelspec": {
   "display_name": "Python 3",
   "language": "python",
   "name": "python3"
  },
  "language_info": {
   "codemirror_mode": {
    "name": "ipython",
    "version": 3
   },
   "file_extension": ".py",
   "mimetype": "text/x-python",
   "name": "python",
   "nbconvert_exporter": "python",
   "pygments_lexer": "ipython3",
   "version": "3.8.5"
  }
 },
 "nbformat": 4,
 "nbformat_minor": 4
}
