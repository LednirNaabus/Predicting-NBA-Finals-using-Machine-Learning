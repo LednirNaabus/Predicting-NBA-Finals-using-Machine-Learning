{
 "cells": [
  {
   "cell_type": "markdown",
   "metadata": {},
   "source": [
    "### First Phase: Developing a mini data set\n",
    "Data is gathered from [Basketball Reference](https://www.basketball-reference.com/)."
   ]
  },
  {
   "cell_type": "code",
   "execution_count": 24,
   "metadata": {},
   "outputs": [],
   "source": [
    "# import needed libraries\n",
    "import requests as rq\n",
    "from bs4 import BeautifulSoup as bs\n",
    "import pandas as pd"
   ]
  },
  {
   "cell_type": "markdown",
   "metadata": {},
   "source": [
    "### Data from Western Conference\n",
    "#### Phoenix Suns\n",
    "The Phoenix Suns were the first team to reach the Western conference finals. Beforehand, they swept the Denver Nuggets 4-0. "
   ]
  },
  {
   "cell_type": "code",
   "execution_count": 25,
   "metadata": {},
   "outputs": [],
   "source": [
    "def extractPHX():\n",
    "    # get url and set up connection to website\n",
    "    url = 'https://www.basketball-reference.com/playoffs/2021-nba-western-conference-semifinals-nuggets-vs-suns.html'\n",
    "    pageInstance = rq.get(url)\n",
    "    soup = bs(pageInstance.content, 'html.parser')\n",
    "    div_allFourFactors = soup.findAll(\"div\", {\"id\":\"all_four_factors\"})\n",
    "\n",
    "    raw_dataset = \"<div class=\\\"table_container\\\" id=\\\"div_four_factors\\\"> <table class=\\\"suppress_all stats_table\\\" id=\\\"four_factors\\\" data-cols-to-freeze=\\\",1\\\"> <caption>Four Factors Table</caption> <colgroup> <col> <col> <col> <col> <col> <col> <col> <col> </colgroup> <thead> <tr class=\\\"over_header\\\"> <th aria-label=\\\"\\\" data-stat=\\\"\\\" colspan=\\\"2\\\" class=\\\" over_header center\\\" ></th> <th aria-label=\\\"\\\" data-stat=\\\"header_tmp\\\" colspan=\\\"4\\\" class=\\\" over_header center\\\" >Four Factors</th> <th></th> <th></th> </tr> <tr> <th aria-label=\\\"Team\\\" data-stat=\\\"team_id\\\" scope=\\\"col\\\" class=\\\" poptip sort_default_asc left\\\" data-tip=\\\"Team\\\" >&nbsp;</th> <th aria-label=\\\"Pace Factor\\\" data-stat=\\\"pace\\\" scope=\\\"col\\\" class=\\\" poptip right\\\" data-tip=\\\"<b>Pace Factor</b>: An estimate of possessions per 48 minutes\\\" >Pace</th> <th aria-label=\\\"Effective Field Goal Percentage\\\" data-stat=\\\"efg_pct\\\" scope=\\\"col\\\" class=\\\" poptip center\\\" data-tip=\\\"<strong>Effective Field Goal Percentage</strong><br>This statistic adjusts for the fact that a 3-point field goal is worth one more point than a 2-point field goal.\\\" data-over-header=\\\"Four Factors\\\" >eFG%</th> <th aria-label=\\\"Turnover Percentage\\\" data-stat=\\\"tov_pct\\\" scope=\\\"col\\\" class=\\\" poptip sort_default_asc center\\\" data-tip=\\\"<b>Turnover Percentage</b><br>An estimate of turnovers committed per 100 plays.\\\" data-over-header=\\\"Four Factors\\\" >TOV%</th> <th aria-label=\\\"Offensive Rebound Percentage\\\" data-stat=\\\"orb_pct\\\" scope=\\\"col\\\" class=\\\" poptip center\\\" data-tip=\\\"<b>Offensive Rebound Percentage</b><br>An estimate of the percentage of available offensive rebounds a player grabbed while they were on the floor.\\\" data-over-header=\\\"Four Factors\\\" >ORB%</th> <th aria-label=\\\"Free Throws Per Field Goal Attempt\\\" data-stat=\\\"ft_rate\\\" scope=\\\"col\\\" class=\\\" poptip right\\\" data-tip=\\\"Free Throws Per Field Goal Attempt\\\" data-over-header=\\\"Four Factors\\\" >FT/FGA</th> <th aria-label=\\\"Offensive Rating\\\" data-stat=\\\"off_rtg\\\" scope=\\\"col\\\" class=\\\" poptip center\\\" data-tip=\\\"<b>Offensive Rating</b><br>An estimate of points produced (players) or scored (teams) per 100 possessions\\\" >ORtg</th> <th aria-label=\\\"Points\\\" data-stat=\\\"pts\\\" scope=\\\"col\\\" class=\\\" poptip center\\\" data-tip=\\\"Points\\\" data-over-header=\\\"Totals\\\" >PTS</th> </tr> </thead> <tbody> <tr > <th scope=\\\"row\\\" class=\\\"left \\\" data-stat=\\\"team_id\\\" ><a href=\\\"/teams/PHO/2021.html\\\">PHO</a> (4-0)</th> <td class=\\\"right \\\" data-stat=\\\"pace\\\" >98.0</td> <td class=\\\"right plus\\\" data-stat=\\\"efg_pct\\\" >.590</td> <td class=\\\"right minus\\\" data-stat=\\\"tov_pct\\\" >10.1</td> <td class=\\\"right minus\\\" data-stat=\\\"orb_pct\\\" >17.4</td> <td class=\\\"right plus\\\" data-stat=\\\"ft_rate\\\" >.229</td> <td class=\\\"right \\\" data-stat=\\\"off_rtg\\\" >124.0</td> <td class=\\\"right \\\" data-stat=\\\"pts\\\" >121.5</td> </tr> <tr > <th scope=\\\"row\\\" class=\\\"left \\\" data-stat=\\\"team_id\\\" ><a href=\\\"/teams/DEN/2021.html\\\">DEN</a> (0-4)</th> <td class=\\\"right \\\" data-stat=\\\"pace\\\" >98.0</td> <td class=\\\"right minus\\\" data-stat=\\\"efg_pct\\\" >.509</td> <td class=\\\"right plus\\\" data-stat=\\\"tov_pct\\\" >9.8</td> <td class=\\\"right plus\\\" data-stat=\\\"orb_pct\\\" >23.2</td> <td class=\\\"right minus\\\" data-stat=\\\"ft_rate\\\" >.109</td> <td class=\\\"right \\\" data-stat=\\\"off_rtg\\\" >107.9</td> <td class=\\\"right \\\" data-stat=\\\"pts\\\" >105.8</td> </tr> </table> </div>\\n\"\n",
    "    soup = bs(raw_dataset, 'lxml')\n",
    "\n",
    "    for text in soup:\n",
    "        PHX_HashMap = {}\n",
    "        firstRow = text.find('tbody')\n",
    "        PHX_HashMap['PHX'] = {}\n",
    "        concentrateFirstRow = firstRow.findAll('td')\n",
    "\n",
    "        for firstRowData in concentrateFirstRow:\n",
    "            getFirstRowAttr = firstRowData.get('data-stat')\n",
    "            extracted = firstRowData.get_text().strip()\n",
    "            PHX_HashMap['PHX'][getFirstRowAttr] = extracted\n",
    "    \n",
    "    df = pd.DataFrame(PHX_HashMap)\n",
    "    # transpose\n",
    "    df_t = df.T\n",
    "    df_t.to_csv('PHX_FourFactors.csv') # put raw data into csv file"
   ]
  },
  {
   "cell_type": "markdown",
   "metadata": {},
   "source": [
    "#### Los Angeles Clippers\n",
    "The Los Angeles Clippers were able to out match the Utah Jazz with a 4-3 upset on the 2nd round."
   ]
  },
  {
   "cell_type": "code",
   "execution_count": 26,
   "metadata": {},
   "outputs": [],
   "source": [
    "def extractLAC():\n",
    "    url = 'https://www.basketball-reference.com/playoffs/2021-nba-western-conference-semifinals-clippers-vs-jazz.html'\n",
    "    pageInstance = rq.get(url)\n",
    "    soup = bs(pageInstance.content, 'html.parser')\n",
    "    div_allFourFactors = soup.findAll(\"div\", {\"id\":\"all_four_factors\"})\n",
    "    raw_dataset = \"<div class=\\\"table_container\\\" id=\\\"div_four_factors\\\"> <table class=\\\"suppress_all stats_table\\\" id=\\\"four_factors\\\" data-cols-to-freeze=\\\",1\\\"> <caption>Four Factors Table</caption> <colgroup> <col> <col> <col> <col> <col> <col> <col> <col> </colgroup> <thead> <tr class=\\\"over_header\\\"> <th aria-label=\\\"\\\" data-stat=\\\"\\\" colspan=\\\"2\\\" class=\\\" over_header center\\\" ></th> <th aria-label=\\\"\\\" data-stat=\\\"header_tmp\\\" colspan=\\\"4\\\" class=\\\" over_header center\\\" >Four Factors</th> <th></th> <th></th> </tr> <tr> <th aria-label=\\\"Team\\\" data-stat=\\\"team_id\\\" scope=\\\"col\\\" class=\\\" poptip sort_default_asc left\\\" data-tip=\\\"Team\\\" >&nbsp;</th> <th aria-label=\\\"Pace Factor\\\" data-stat=\\\"pace\\\" scope=\\\"col\\\" class=\\\" poptip right\\\" data-tip=\\\"<b>Pace Factor</b>: An estimate of possessions per 48 minutes\\\" >Pace</th> <th aria-label=\\\"Effective Field Goal Percentage\\\" data-stat=\\\"efg_pct\\\" scope=\\\"col\\\" class=\\\" poptip center\\\" data-tip=\\\"<strong>Effective Field Goal Percentage</strong><br>This statistic adjusts for the fact that a 3-point field goal is worth one more point than a 2-point field goal.\\\" data-over-header=\\\"Four Factors\\\" >eFG%</th> <th aria-label=\\\"Turnover Percentage\\\" data-stat=\\\"tov_pct\\\" scope=\\\"col\\\" class=\\\" poptip sort_default_asc center\\\" data-tip=\\\"<b>Turnover Percentage</b><br>An estimate of turnovers committed per 100 plays.\\\" data-over-header=\\\"Four Factors\\\" >TOV%</th> <th aria-label=\\\"Offensive Rebound Percentage\\\" data-stat=\\\"orb_pct\\\" scope=\\\"col\\\" class=\\\" poptip center\\\" data-tip=\\\"<b>Offensive Rebound Percentage</b><br>An estimate of the percentage of available offensive rebounds a player grabbed while they were on the floor.\\\" data-over-header=\\\"Four Factors\\\" >ORB%</th> <th aria-label=\\\"Free Throws Per Field Goal Attempt\\\" data-stat=\\\"ft_rate\\\" scope=\\\"col\\\" class=\\\" poptip right\\\" data-tip=\\\"Free Throws Per Field Goal Attempt\\\" data-over-header=\\\"Four Factors\\\" >FT/FGA</th> <th aria-label=\\\"Offensive Rating\\\" data-stat=\\\"off_rtg\\\" scope=\\\"col\\\" class=\\\" poptip center\\\" data-tip=\\\"<b>Offensive Rating</b><br>An estimate of points produced (players) or scored (teams) per 100 possessions\\\" >ORtg</th> <th aria-label=\\\"Points\\\" data-stat=\\\"pts\\\" scope=\\\"col\\\" class=\\\" poptip center\\\" data-tip=\\\"Points\\\" data-over-header=\\\"Totals\\\" >PTS</th> </tr> </thead> <tbody> <tr > <th scope=\\\"row\\\" class=\\\"left \\\" data-stat=\\\"team_id\\\" ><a href=\\\"/teams/LAC/2021.html\\\">LAC</a> (4-2)</th> <td class=\\\"right \\\" data-stat=\\\"pace\\\" >92.3</td> <td class=\\\"right plus\\\" data-stat=\\\"efg_pct\\\" >.598</td> <td class=\\\"right plus\\\" data-stat=\\\"tov_pct\\\" >8.7</td> <td class=\\\"right minus\\\" data-stat=\\\"orb_pct\\\" >22.7</td> <td class=\\\"right plus\\\" data-stat=\\\"ft_rate\\\" >.242</td> <td class=\\\"right \\\" data-stat=\\\"off_rtg\\\" >130.0</td> <td class=\\\"right \\\" data-stat=\\\"pts\\\" >120.0</td> </tr> <tr > <th scope=\\\"row\\\" class=\\\"left \\\" data-stat=\\\"team_id\\\" ><a href=\\\"/teams/UTA/2021.html\\\">UTA</a> (2-4)</th> <td class=\\\"right \\\" data-stat=\\\"pace\\\" >92.3</td> <td class=\\\"right minus\\\" data-stat=\\\"efg_pct\\\" >.574</td> <td class=\\\"right minus\\\" data-stat=\\\"tov_pct\\\" >11.8</td> <td class=\\\"right plus\\\" data-stat=\\\"orb_pct\\\" >22.9</td> <td class=\\\"right minus\\\" data-stat=\\\"ft_rate\\\" >.209</td> <td class=\\\"right \\\" data-stat=\\\"off_rtg\\\" >120.8</td> <td class=\\\"right \\\" data-stat=\\\"pts\\\" >111.5</td> </tr> </table> </div>\\n\"\n",
    "    soup = bs(raw_dataset, 'lxml')\n",
    "\n",
    "    for text in soup:\n",
    "        LAC_HashMap = {}\n",
    "        firstRow = text.find('tbody')\n",
    "        LAC_HashMap['LAC'] = {}\n",
    "        concentrateFirstRow = firstRow.findAll('td')\n",
    "\n",
    "        for firstRowData in concentrateFirstRow:\n",
    "            getFirstRowAttr = firstRowData.get('data-stat')\n",
    "            extracted = firstRowData.get_text().strip()\n",
    "            LAC_HashMap['LAC'][getFirstRowAttr] = extracted\n",
    "\n",
    "    df = pd.DataFrame(LAC_HashMap)\n",
    "    df_t = df.T\n",
    "    df_t.to_csv('LAC_FourFactors.csv')"
   ]
  },
  {
   "cell_type": "markdown",
   "metadata": {},
   "source": [
    "### Data from Eastern Conference\n",
    "#### Milwaukee Bucks\n",
    "The Milwaukee Bucks are the first team in the Eastern conference to reach their respective conference finals. They beat the Brooklyne Nets 4-3."
   ]
  },
  {
   "cell_type": "code",
   "execution_count": 27,
   "metadata": {},
   "outputs": [],
   "source": [
    "def extractMIL():\n",
    "    url = 'https://www.basketball-reference.com/playoffs/2021-nba-eastern-conference-semifinals-bucks-vs-nets.html'\n",
    "    pageInstance = rq.get(url)\n",
    "    soup = bs(pageInstance.content, 'html.parser')\n",
    "    div_allFourFactors = soup.findAll(\"div\", {\"id\":\"all_four_factors\"})\n",
    "    raw_dataset = \"<div class=\\\"table_container\\\" id=\\\"div_four_factors\\\"> <table class=\\\"suppress_all stats_table\\\" id=\\\"four_factors\\\" data-cols-to-freeze=\\\",1\\\"> <caption>Four Factors Table</caption> <colgroup><col><col><col><col><col><col><col><col></colgroup> <thead> <tr class=\\\"over_header\\\"> <th aria-label=\\\"\\\" data-stat=\\\"\\\" colspan=\\\"2\\\" class=\\\" over_header center\\\" ></th> <th aria-label=\\\"\\\" data-stat=\\\"header_tmp\\\" colspan=\\\"4\\\" class=\\\" over_header center\\\" >Four Factors</th><th></th><th></th> </tr> <tr> <th aria-label=\\\"Team\\\" data-stat=\\\"team_id\\\" scope=\\\"col\\\" class=\\\" poptip sort_default_asc left\\\" data-tip=\\\"Team\\\" >&nbsp;</th> <th aria-label=\\\"Pace Factor\\\" data-stat=\\\"pace\\\" scope=\\\"col\\\" class=\\\" poptip right\\\" data-tip=\\\"<b>Pace Factor</b>: An estimate of possessions per 48 minutes\\\" >Pace</th> <th aria-label=\\\"Effective Field Goal Percentage\\\" data-stat=\\\"efg_pct\\\" scope=\\\"col\\\" class=\\\" poptip center\\\" data-tip=\\\"<strong>Effective Field Goal Percentage</strong><br>This statistic adjusts for the fact that a 3-point field goal is worth one more point than a 2-point field goal.\\\" data-over-header=\\\"Four Factors\\\" >eFG%</th> <th aria-label=\\\"Turnover Percentage\\\" data-stat=\\\"tov_pct\\\" scope=\\\"col\\\" class=\\\" poptip sort_default_asc center\\\" data-tip=\\\"<b>Turnover Percentage</b><br>An estimate of turnovers committed per 100 plays.\\\" data-over-header=\\\"Four Factors\\\" >TOV%</th> <th aria-label=\\\"Offensive Rebound Percentage\\\" data-stat=\\\"orb_pct\\\" scope=\\\"col\\\" class=\\\" poptip center\\\" data-tip=\\\"<b>Offensive Rebound Percentage</b><br>An estimate of the percentage of available offensive rebounds a player grabbed while they were on the floor.\\\" data-over-header=\\\"Four Factors\\\" >ORB%</th> <th aria-label=\\\"Free Throws Per Field Goal Attempt\\\" data-stat=\\\"ft_rate\\\" scope=\\\"col\\\" class=\\\" poptip right\\\" data-tip=\\\"Free Throws Per Field Goal Attempt\\\" data-over-header=\\\"Four Factors\\\" >FT/FGA</th> <th aria-label=\\\"Offensive Rating\\\" data-stat=\\\"off_rtg\\\" scope=\\\"col\\\" class=\\\" poptip center\\\" data-tip=\\\"<b>Offensive Rating</b><br>An estimate of points produced (players) or scored (teams) per 100 possessions\\\" >ORtg</th> <th aria-label=\\\"Points\\\" data-stat=\\\"pts\\\" scope=\\\"col\\\" class=\\\" poptip center\\\" data-tip=\\\"Points\\\" data-over-header=\\\"Totals\\\" >PTS</th> </tr> </thead> <tbody><tr ><th scope=\\\"row\\\" class=\\\"left \\\" data-stat=\\\"team_id\\\" ><a href=\\\"/teams/MIL/2021.html\\\">MIL</a> (4-3)</th><td class=\\\"right \\\" data-stat=\\\"pace\\\" >95.6</td><td class=\\\"right minus\\\" data-stat=\\\"efg_pct\\\" >.498</td><td class=\\\"right minus\\\" data-stat=\\\"tov_pct\\\" >10.9</td><td class=\\\"right plus\\\" data-stat=\\\"orb_pct\\\" >22.4</td><td class=\\\"right plus\\\" data-stat=\\\"ft_rate\\\" >.144</td><td class=\\\"right \\\" data-stat=\\\"off_rtg\\\" >105.0</td><td class=\\\"right \\\" data-stat=\\\"pts\\\" >101.9</td></tr> <tr ><th scope=\\\"row\\\" class=\\\"left \\\" data-stat=\\\"team_id\\\" ><a href=\\\"/teams/BRK/2021.html\\\">BRK</a> (3-4)</th><td class=\\\"right \\\" data-stat=\\\"pace\\\" >95.6</td><td class=\\\"right plus\\\" data-stat=\\\"efg_pct\\\" >.529</td><td class=\\\"right plus\\\" data-stat=\\\"tov_pct\\\" >10.6</td><td class=\\\"right minus\\\" data-stat=\\\"orb_pct\\\" >15.3</td><td class=\\\"right minus\\\" data-stat=\\\"ft_rate\\\" >.141</td><td class=\\\"right \\\" data-stat=\\\"off_rtg\\\" >107.9</td><td class=\\\"right \\\" data-stat=\\\"pts\\\" >104.7</td></tr> </table> </div>\\n\"\n",
    "    soup = bs(raw_dataset, 'lxml')\n",
    "\n",
    "    for text in soup:\n",
    "        MIL_HashMap = {}\n",
    "        firstRow = text.find('tbody')\n",
    "        MIL_HashMap['MIL'] = {}\n",
    "        concentrateFirstRow = firstRow.findAll('td')\n",
    "\n",
    "        for firstRowData in concentrateFirstRow:\n",
    "            getFirstRowAttr = firstRowData.get('data-stat')\n",
    "            extracted = firstRowData.get_text().strip()\n",
    "            MIL_HashMap['MIL'][getFirstRowAttr] = extracted\n",
    "\n",
    "    df = pd.DataFrame(MIL_HashMap)\n",
    "    df_t = df.T\n",
    "    df_t.to_csv('MIL_FourFactors.csv')"
   ]
  },
  {
   "cell_type": "markdown",
   "metadata": {},
   "source": [
    "#### Philadelphia 76ers vs Atlanta Hawks\n",
    "The matchup between the 76ers and the Hawks has not yet ended. Both teams are tied at 3 a piece and will battle it out in an all-or-nothing Game 7. Therefore, in order to get the data, we scrape their data from the first round of the playoffs."
   ]
  },
  {
   "cell_type": "markdown",
   "metadata": {},
   "source": [
    "### 1st Round Eastern Conference: 76ers vs Wizards\n",
    "The 76ers easily cruised past Westbrook's Wizards with a 4-1 win over the series."
   ]
  },
  {
   "cell_type": "code",
   "execution_count": 28,
   "metadata": {},
   "outputs": [],
   "source": [
    "def extractPHL():\n",
    "    url = 'https://www.basketball-reference.com/playoffs/2021-nba-eastern-conference-first-round-wizards-vs-76ers.html'\n",
    "    pageInstance = rq.get(url)\n",
    "    soup = bs(pageInstance.content, 'html.parser')\n",
    "    div_allFourFactors = soup.findAll(\"div\", {\"id\":\"all_four_factors\"})\n",
    "    raw_dataset = \"<div class=\\\"table_container\\\" id=\\\"div_four_factors\\\"> <table class=\\\"suppress_all stats_table\\\" id=\\\"four_factors\\\" data-cols-to-freeze=\\\",1\\\"> <caption>Four Factors Table</caption> <colgroup><col><col><col><col><col><col><col><col></colgroup> <thead> <tr class=\\\"over_header\\\"> <th aria-label=\\\"\\\" data-stat=\\\"\\\" colspan=\\\"2\\\" class=\\\" over_header center\\\" ></th> <th aria-label=\\\"\\\" data-stat=\\\"header_tmp\\\" colspan=\\\"4\\\" class=\\\" over_header center\\\" >Four Factors</th><th></th><th></th> </tr> <tr> <th aria-label=\\\"Team\\\" data-stat=\\\"team_id\\\" scope=\\\"col\\\" class=\\\" poptip sort_default_asc left\\\" data-tip=\\\"Team\\\" >&nbsp;</th> <th aria-label=\\\"Pace Factor\\\" data-stat=\\\"pace\\\" scope=\\\"col\\\" class=\\\" poptip right\\\" data-tip=\\\"<b>Pace Factor</b>: An estimate of possessions per 48 minutes\\\" >Pace</th> <th aria-label=\\\"Effective Field Goal Percentage\\\" data-stat=\\\"efg_pct\\\" scope=\\\"col\\\" class=\\\" poptip center\\\" data-tip=\\\"<strong>Effective Field Goal Percentage</strong><br>This statistic adjusts for the fact that a 3-point field goal is worth one more point than a 2-point field goal.\\\" data-over-header=\\\"Four Factors\\\" >eFG%</th> <th aria-label=\\\"Turnover Percentage\\\" data-stat=\\\"tov_pct\\\" scope=\\\"col\\\" class=\\\" poptip sort_default_asc center\\\" data-tip=\\\"<b>Turnover Percentage</b><br>An estimate of turnovers committed per 100 plays.\\\" data-over-header=\\\"Four Factors\\\" >TOV%</th> <th aria-label=\\\"Offensive Rebound Percentage\\\" data-stat=\\\"orb_pct\\\" scope=\\\"col\\\" class=\\\" poptip center\\\" data-tip=\\\"<b>Offensive Rebound Percentage</b><br>An estimate of the percentage of available offensive rebounds a player grabbed while they were on the floor.\\\" data-over-header=\\\"Four Factors\\\" >ORB%</th> <th aria-label=\\\"Free Throws Per Field Goal Attempt\\\" data-stat=\\\"ft_rate\\\" scope=\\\"col\\\" class=\\\" poptip right\\\" data-tip=\\\"Free Throws Per Field Goal Attempt\\\" data-over-header=\\\"Four Factors\\\" >FT/FGA</th> <th aria-label=\\\"Offensive Rating\\\" data-stat=\\\"off_rtg\\\" scope=\\\"col\\\" class=\\\" poptip center\\\" data-tip=\\\"<b>Offensive Rating</b><br>An estimate of points produced (players) or scored (teams) per 100 possessions\\\" >ORtg</th> <th aria-label=\\\"Points\\\" data-stat=\\\"pts\\\" scope=\\\"col\\\" class=\\\" poptip center\\\" data-tip=\\\"Points\\\" data-over-header=\\\"Totals\\\" >PTS</th> </tr> </thead> <tbody><tr ><th scope=\\\"row\\\" class=\\\"left \\\" data-stat=\\\"team_id\\\" ><a href=\\\"/teams/PHI/2021.html\\\">PHI</a> (4-1)</th><td class=\\\"right \\\" data-stat=\\\"pace\\\" >101.6</td><td class=\\\"right plus\\\" data-stat=\\\"efg_pct\\\" >.575</td><td class=\\\"right plus\\\" data-stat=\\\"tov_pct\\\" >9.8</td><td class=\\\"right minus\\\" data-stat=\\\"orb_pct\\\" >22.6</td><td class=\\\"right minus\\\" data-stat=\\\"ft_rate\\\" >.234</td><td class=\\\"right \\\" data-stat=\\\"off_rtg\\\" >122.0</td><td class=\\\"right \\\" data-stat=\\\"pts\\\" >124.0</td></tr> <tr ><th scope=\\\"row\\\" class=\\\"left \\\" data-stat=\\\"team_id\\\" ><a href=\\\"/teams/WAS/2021.html\\\">WAS</a> (1-4)</th><td class=\\\"right \\\" data-stat=\\\"pace\\\" >101.6</td><td class=\\\"right minus\\\" data-stat=\\\"efg_pct\\\" >.498</td><td class=\\\"right minus\\\" data-stat=\\\"tov_pct\\\" >11.2</td><td class=\\\"right plus\\\" data-stat=\\\"orb_pct\\\" >23.1</td><td class=\\\"right plus\\\" data-stat=\\\"ft_rate\\\" >.246</td><td class=\\\"right \\\" data-stat=\\\"off_rtg\\\" >108.2</td><td class=\\\"right \\\" data-stat=\\\"pts\\\" >110.0</td></tr> </table> </div>\\n\"\n",
    "    soup = bs(raw_dataset, 'lxml')\n",
    "\n",
    "    for text in soup:\n",
    "        PHL_HashMap = {}\n",
    "        firstRow = text.find('tbody')\n",
    "        PHL_HashMap['PHL'] = {}\n",
    "        concentrateFirstRow = firstRow.findAll('td')\n",
    "\n",
    "        for firstRowData in concentrateFirstRow:\n",
    "            getFirstRowAttr = firstRowData.get('data-stat')\n",
    "            extracted = firstRowData.get_text().strip()\n",
    "            PHL_HashMap['PHL'][getFirstRowAttr] = extracted\n",
    "\n",
    "    df = pd.DataFrame(PHL_HashMap)\n",
    "    df_t = df.T\n",
    "    df_t.to_csv('PHL_FourFactors.csv')"
   ]
  },
  {
   "cell_type": "markdown",
   "metadata": {},
   "source": [
    "### 1st Round Eastern Conference: Atlanta Hawks vs New York Knicks\n",
    "Just like the 76ers, the Atlanta Hawks were able to defeat the NY Knicks with a 4-1 series."
   ]
  },
  {
   "cell_type": "code",
   "execution_count": 29,
   "metadata": {},
   "outputs": [],
   "source": [
    "def extractATL():\n",
    "    url = 'https://www.basketball-reference.com/playoffs/2021-nba-eastern-conference-first-round-hawks-vs-knicks.html'\n",
    "    pageInstance = rq.get(url)\n",
    "    soup = bs(pageInstance.content, 'html.parser')\n",
    "    div_allFourFactors = soup.findAll(\"div\", {\"id\":\"all_four_factors\"})\n",
    "    raw_dataset = \"<div class=\\\"table_container\\\" id=\\\"div_four_factors\\\"> <table class=\\\"suppress_all stats_table\\\" id=\\\"four_factors\\\" data-cols-to-freeze=\\\",1\\\"> <caption>Four Factors Table</caption> <colgroup> <col> <col> <col> <col> <col> <col> <col> <col> </colgroup> <thead> <tr class=\\\"over_header\\\"> <th aria-label=\\\"\\\" data-stat=\\\"\\\" colspan=\\\"2\\\" class=\\\" over_header center\\\" ></th> <th aria-label=\\\"\\\" data-stat=\\\"header_tmp\\\" colspan=\\\"4\\\" class=\\\" over_header center\\\" >Four Factors</th> <th></th> <th></th> </tr> <tr> <th aria-label=\\\"Team\\\" data-stat=\\\"team_id\\\" scope=\\\"col\\\" class=\\\" poptip sort_default_asc left\\\" data-tip=\\\"Team\\\" >&nbsp;</th> <th aria-label=\\\"Pace Factor\\\" data-stat=\\\"pace\\\" scope=\\\"col\\\" class=\\\" poptip right\\\" data-tip=\\\"<b>Pace Factor</b>: An estimate of possessions per 48 minutes\\\" >Pace</th> <th aria-label=\\\"Effective Field Goal Percentage\\\" data-stat=\\\"efg_pct\\\" scope=\\\"col\\\" class=\\\" poptip center\\\" data-tip=\\\"<strong>Effective Field Goal Percentage</strong><br>This statistic adjusts for the fact that a 3-point field goal is worth one more point than a 2-point field goal.\\\" data-over-header=\\\"Four Factors\\\" >eFG%</th> <th aria-label=\\\"Turnover Percentage\\\" data-stat=\\\"tov_pct\\\" scope=\\\"col\\\" class=\\\" poptip sort_default_asc center\\\" data-tip=\\\"<b>Turnover Percentage</b><br>An estimate of turnovers committed per 100 plays.\\\" data-over-header=\\\"Four Factors\\\" >TOV%</th> <th aria-label=\\\"Offensive Rebound Percentage\\\" data-stat=\\\"orb_pct\\\" scope=\\\"col\\\" class=\\\" poptip center\\\" data-tip=\\\"<b>Offensive Rebound Percentage</b><br>An estimate of the percentage of available offensive rebounds a player grabbed while they were on the floor.\\\" data-over-header=\\\"Four Factors\\\" >ORB%</th> <th aria-label=\\\"Free Throws Per Field Goal Attempt\\\" data-stat=\\\"ft_rate\\\" scope=\\\"col\\\" class=\\\" poptip right\\\" data-tip=\\\"Free Throws Per Field Goal Attempt\\\" data-over-header=\\\"Four Factors\\\" >FT/FGA</th> <th aria-label=\\\"Offensive Rating\\\" data-stat=\\\"off_rtg\\\" scope=\\\"col\\\" class=\\\" poptip center\\\" data-tip=\\\"<b>Offensive Rating</b><br>An estimate of points produced (players) or scored (teams) per 100 possessions\\\" >ORtg</th> <th aria-label=\\\"Points\\\" data-stat=\\\"pts\\\" scope=\\\"col\\\" class=\\\" poptip center\\\" data-tip=\\\"Points\\\" data-over-header=\\\"Totals\\\" >PTS</th> </tr> </thead> <tbody> <tr > <th scope=\\\"row\\\" class=\\\"left \\\" data-stat=\\\"team_id\\\" ><a href=\\\"/teams/ATL/2021.html\\\">ATL</a> (4-1)</th> <td class=\\\"right \\\" data-stat=\\\"pace\\\" >93.0</td> <td class=\\\"right plus\\\" data-stat=\\\"efg_pct\\\" >.519</td> <td class=\\\"right plus\\\" data-stat=\\\"tov_pct\\\" >9.9</td> <td class=\\\"right minus\\\" data-stat=\\\"orb_pct\\\" >18.8</td> <td class=\\\"right minus\\\" data-stat=\\\"ft_rate\\\" >.189</td> <td class=\\\"right \\\" data-stat=\\\"off_rtg\\\" >111.8</td> <td class=\\\"right \\\" data-stat=\\\"pts\\\" >104.0</td> </tr> <tr > <th scope=\\\"row\\\" class=\\\"left \\\" data-stat=\\\"team_id\\\" ><a href=\\\"/teams/NYK/2021.html\\\">NYK</a> (1-4)</th> <td class=\\\"right \\\" data-stat=\\\"pace\\\" >93.0</td> <td class=\\\"right minus\\\" data-stat=\\\"efg_pct\\\" >.458</td> <td class=\\\"right minus\\\" data-stat=\\\"tov_pct\\\" >10.6</td> <td class=\\\"right plus\\\" data-stat=\\\"orb_pct\\\" >24.6</td> <td class=\\\"right plus\\\" data-stat=\\\"ft_rate\\\" >.206</td> <td class=\\\"right \\\" data-stat=\\\"off_rtg\\\" >104.3</td> <td class=\\\"right \\\" data-stat=\\\"pts\\\" >97.0</td> </tr> </table> </div>\\n\"\n",
    "    soup = bs(raw_dataset, 'lxml')\n",
    "\n",
    "    for text in soup:\n",
    "            ATL_HashMap = {}\n",
    "            firstRow = text.find('tbody')\n",
    "            ATL_HashMap['ATL'] = {}\n",
    "            concentrateFirstRow = firstRow.findAll('td')\n",
    "\n",
    "            for firstRowData in concentrateFirstRow:\n",
    "                getFirstRowAttr = firstRowData.get('data-stat')\n",
    "                extracted = firstRowData.get_text().strip()\n",
    "                ATL_HashMap['ATL'][getFirstRowAttr] = extracted\n",
    "\n",
    "    df = pd.DataFrame(ATL_HashMap)\n",
    "    df_t = df.T\n",
    "    df_t.to_csv('ATL_FourFactors.csv')"
   ]
  },
  {
   "cell_type": "code",
   "execution_count": 30,
   "metadata": {},
   "outputs": [],
   "source": [
    "if __name__ == \"__main__\":\n",
    "    extractPHX()\n",
    "    extractLAC()\n",
    "    extractMIL()\n",
    "    extractPHL()\n",
    "    extractATL()"
   ]
  },
  {
   "cell_type": "markdown",
   "metadata": {},
   "source": [
    "# Data Cleaning Phase\n",
    "### Structuring the Data frame using pandas\n",
    "After extracting the values and exporting them to a csv file, we clean the data and grab the only columns we need."
   ]
  },
  {
   "cell_type": "code",
   "execution_count": 31,
   "metadata": {},
   "outputs": [],
   "source": [
    "# read the csv files\n",
    "phx = pd.read_csv('PHX_FourFactors.csv')\n",
    "lac = pd.read_csv('LAC_FourFactors.csv')\n",
    "mil = pd.read_csv('MIL_FourFactors.csv')\n",
    "phl = pd.read_csv('PHL_FourFactors.csv')\n",
    "atl = pd.read_csv('ATL_FourFactors.csv')"
   ]
  },
  {
   "cell_type": "code",
   "execution_count": 32,
   "metadata": {},
   "outputs": [
    {
     "data": {
      "text/plain": [
       "Index(['Unnamed: 0', 'efg_pct', 'ft_rate', 'off_rtg', 'orb_pct', 'pace', 'pts',\n",
       "       'tov_pct'],\n",
       "      dtype='object')"
      ]
     },
     "execution_count": 32,
     "metadata": {},
     "output_type": "execute_result"
    }
   ],
   "source": [
    "phx.columns # check the columns"
   ]
  },
  {
   "cell_type": "code",
   "execution_count": 33,
   "metadata": {},
   "outputs": [
    {
     "data": {
      "text/plain": [
       "Index(['Unnamed: 0', 'efg_pct', 'ft_rate', 'off_rtg', 'orb_pct', 'pace', 'pts',\n",
       "       'tov_pct'],\n",
       "      dtype='object')"
      ]
     },
     "execution_count": 33,
     "metadata": {},
     "output_type": "execute_result"
    }
   ],
   "source": [
    "lac.columns"
   ]
  },
  {
   "cell_type": "code",
   "execution_count": 34,
   "metadata": {},
   "outputs": [
    {
     "data": {
      "text/plain": [
       "Index(['Unnamed: 0', 'efg_pct', 'ft_rate', 'off_rtg', 'orb_pct', 'pace', 'pts',\n",
       "       'tov_pct'],\n",
       "      dtype='object')"
      ]
     },
     "execution_count": 34,
     "metadata": {},
     "output_type": "execute_result"
    }
   ],
   "source": [
    "mil.columns"
   ]
  },
  {
   "cell_type": "code",
   "execution_count": 35,
   "metadata": {},
   "outputs": [
    {
     "data": {
      "text/plain": [
       "Index(['Unnamed: 0', 'efg_pct', 'ft_rate', 'off_rtg', 'orb_pct', 'pace', 'pts',\n",
       "       'tov_pct'],\n",
       "      dtype='object')"
      ]
     },
     "execution_count": 35,
     "metadata": {},
     "output_type": "execute_result"
    }
   ],
   "source": [
    "phl.columns"
   ]
  },
  {
   "cell_type": "code",
   "execution_count": 36,
   "metadata": {},
   "outputs": [
    {
     "data": {
      "text/plain": [
       "Index(['Unnamed: 0', 'efg_pct', 'ft_rate', 'off_rtg', 'orb_pct', 'pace', 'pts',\n",
       "       'tov_pct'],\n",
       "      dtype='object')"
      ]
     },
     "execution_count": 36,
     "metadata": {},
     "output_type": "execute_result"
    }
   ],
   "source": [
    "atl.columns"
   ]
  },
  {
   "cell_type": "code",
   "execution_count": 37,
   "metadata": {},
   "outputs": [
    {
     "data": {
      "text/html": [
       "<div>\n",
       "<style scoped>\n",
       "    .dataframe tbody tr th:only-of-type {\n",
       "        vertical-align: middle;\n",
       "    }\n",
       "\n",
       "    .dataframe tbody tr th {\n",
       "        vertical-align: top;\n",
       "    }\n",
       "\n",
       "    .dataframe thead th {\n",
       "        text-align: right;\n",
       "    }\n",
       "</style>\n",
       "<table border=\"1\" class=\"dataframe\">\n",
       "  <thead>\n",
       "    <tr style=\"text-align: right;\">\n",
       "      <th></th>\n",
       "      <th>Unnamed: 0</th>\n",
       "      <th>efg_pct</th>\n",
       "      <th>ft_rate</th>\n",
       "      <th>off_rtg</th>\n",
       "      <th>orb_pct</th>\n",
       "      <th>pace</th>\n",
       "      <th>pts</th>\n",
       "      <th>tov_pct</th>\n",
       "    </tr>\n",
       "  </thead>\n",
       "  <tbody>\n",
       "    <tr>\n",
       "      <th>0</th>\n",
       "      <td>PHX</td>\n",
       "      <td>0.509</td>\n",
       "      <td>0.109</td>\n",
       "      <td>107.9</td>\n",
       "      <td>23.2</td>\n",
       "      <td>98.0</td>\n",
       "      <td>105.8</td>\n",
       "      <td>9.8</td>\n",
       "    </tr>\n",
       "  </tbody>\n",
       "</table>\n",
       "</div>"
      ],
      "text/plain": [
       "  Unnamed: 0  efg_pct  ft_rate  off_rtg  orb_pct  pace    pts  tov_pct\n",
       "0        PHX    0.509    0.109    107.9     23.2  98.0  105.8      9.8"
      ]
     },
     "execution_count": 37,
     "metadata": {},
     "output_type": "execute_result"
    }
   ],
   "source": [
    "phx.head()"
   ]
  },
  {
   "cell_type": "markdown",
   "metadata": {},
   "source": [
    "After inspection, we notice that we have an unnamed column. Hence, we drop the column."
   ]
  },
  {
   "cell_type": "code",
   "execution_count": 15,
   "metadata": {},
   "outputs": [],
   "source": [
    "# dropping a column\n",
    "phx.drop(['Unnamed: 0'], axis=1, inplace=True)"
   ]
  },
  {
   "cell_type": "code",
   "execution_count": 16,
   "metadata": {},
   "outputs": [],
   "source": [
    "# do the same thing to other dataframes\n",
    "lac.drop(['Unnamed: 0'], axis=1, inplace=True)"
   ]
  },
  {
   "cell_type": "code",
   "execution_count": 17,
   "metadata": {},
   "outputs": [],
   "source": [
    "mil.drop(['Unnamed: 0'], axis=1, inplace=True)"
   ]
  },
  {
   "cell_type": "code",
   "execution_count": 18,
   "metadata": {},
   "outputs": [],
   "source": [
    "phl.drop(['Unnamed: 0'], axis=1, inplace=True)"
   ]
  },
  {
   "cell_type": "code",
   "execution_count": 19,
   "metadata": {},
   "outputs": [],
   "source": [
    "atl.drop(['Unnamed: 0'], axis=1, inplace=True)"
   ]
  },
  {
   "cell_type": "code",
   "execution_count": 20,
   "metadata": {},
   "outputs": [
    {
     "data": {
      "text/html": [
       "<div>\n",
       "<style scoped>\n",
       "    .dataframe tbody tr th:only-of-type {\n",
       "        vertical-align: middle;\n",
       "    }\n",
       "\n",
       "    .dataframe tbody tr th {\n",
       "        vertical-align: top;\n",
       "    }\n",
       "\n",
       "    .dataframe thead th {\n",
       "        text-align: right;\n",
       "    }\n",
       "</style>\n",
       "<table border=\"1\" class=\"dataframe\">\n",
       "  <thead>\n",
       "    <tr style=\"text-align: right;\">\n",
       "      <th></th>\n",
       "      <th>efg_pct</th>\n",
       "      <th>ft_rate</th>\n",
       "      <th>off_rtg</th>\n",
       "      <th>orb_pct</th>\n",
       "      <th>pace</th>\n",
       "      <th>pts</th>\n",
       "      <th>tov_pct</th>\n",
       "    </tr>\n",
       "  </thead>\n",
       "  <tbody>\n",
       "    <tr>\n",
       "      <th>0</th>\n",
       "      <td>0.458</td>\n",
       "      <td>0.206</td>\n",
       "      <td>104.3</td>\n",
       "      <td>24.6</td>\n",
       "      <td>93.0</td>\n",
       "      <td>97.0</td>\n",
       "      <td>10.6</td>\n",
       "    </tr>\n",
       "  </tbody>\n",
       "</table>\n",
       "</div>"
      ],
      "text/plain": [
       "   efg_pct  ft_rate  off_rtg  orb_pct  pace   pts  tov_pct\n",
       "0    0.458    0.206    104.3     24.6  93.0  97.0     10.6"
      ]
     },
     "execution_count": 20,
     "metadata": {},
     "output_type": "execute_result"
    }
   ],
   "source": [
    "atl # check"
   ]
  },
  {
   "cell_type": "markdown",
   "metadata": {},
   "source": [
    "Once all raw data have been cleaned, we save them to a new CSV file in order to work on them on the next phase of the project."
   ]
  },
  {
   "cell_type": "code",
   "execution_count": 22,
   "metadata": {},
   "outputs": [],
   "source": [
    "phx.to_csv('PHX_cleaned.csv')\n",
    "lac.to_csv('LAC_cleaned.csv')\n",
    "mil.to_csv('MIL_cleaned.csv')\n",
    "phl.to_csv('PHL_cleaned.csv')\n",
    "atl.to_csv('ATL_cleaned.csv')"
   ]
  },
  {
   "cell_type": "code",
   "execution_count": null,
   "metadata": {},
   "outputs": [],
   "source": []
  }
 ],
 "metadata": {
  "kernelspec": {
   "display_name": "Python 3",
   "language": "python",
   "name": "python3"
  },
  "language_info": {
   "codemirror_mode": {
    "name": "ipython",
    "version": 3
   },
   "file_extension": ".py",
   "mimetype": "text/x-python",
   "name": "python",
   "nbconvert_exporter": "python",
   "pygments_lexer": "ipython3",
   "version": "3.8.5"
  }
 },
 "nbformat": 4,
 "nbformat_minor": 4
}
