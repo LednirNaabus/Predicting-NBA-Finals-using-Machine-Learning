{
 "cells": [
  {
   "cell_type": "markdown",
   "metadata": {},
   "source": [
    "# Predicting the 2020-2021 NBA Finals\n",
    "### Background/Overview\n",
    "As an NBA fan and a Computer Science student, I have been fascinated by the statistics that we can gather and observe around the NBA.\n",
    "\n",
    "As the NBA 2020-2021 season is nearing its end, we are close to seeing which NBA teams will reach the finals and get the ring. Two teams from the eastern and western conference will battle it out and become NBA champions.\n",
    "\n",
    "So far, the Western conference already has its finalists: the Phoenix Suns led by Future NBA Hall of Famer Chris Paul and Rising NBA star Devin Booker, and the Los Angeles Clippers led by NBA Superstars Kawhi Leonard and Paul George. On the other hand, the Eastern Conference semifinals has not yet ended. With Brooklyn Nets tied with Milwaukee Bucks at 3-3 and the Philadelphia 76ers tied with Atlanta Hawks at 3-3 as well. We are yet to see who will face each other in the Eastern conference finals.\n",
    "\n",
    "This machine learning project will predict the outcome between which of these teams will reach the Finals and the Championship."
   ]
  },
  {
   "cell_type": "markdown",
   "metadata": {},
   "source": [
    "## First phase: Develop a mini data set\n",
    "We collect and gather data from [Basketball Reference](https://www.basketball-reference.com/)."
   ]
  },
  {
   "cell_type": "markdown",
   "metadata": {},
   "source": [
    "#### The Four Factors\n",
    "The Four Factors are the box score derived metrics that correlate most closely with winning a game. Likewise, these factors also identify a team's strategic strenghts and weaknesses. This can be applied to both a team's offense and defense. More at [NBAstuffer](https://www.nbastuffer.com/analytics101/four-factors/)."
   ]
  },
  {
   "cell_type": "markdown",
   "metadata": {},
   "source": [
    "## The Western Conference\n",
    "We first need to gather the four factors from the performance of each conference finalist, like so."
   ]
  },
  {
   "cell_type": "markdown",
   "metadata": {},
   "source": [
    "### Phoenix Suns\n",
    "The Phoenix Suns were the first team on the Western Conference to reach the conference finals. Beforehand, they swept the Denver Nuggets 4-0."
   ]
  },
  {
   "cell_type": "code",
   "execution_count": 1,
   "metadata": {},
   "outputs": [],
   "source": [
    "# import the needed libraries\n",
    "%matplotlib inline\n",
    "from bs4 import BeautifulSoup as bs, Comment\n",
    "from pip._vendor import requests as rq\n",
    "import pandas as pd\n",
    "import numpy as np\n",
    "import seaborn as sns\n",
    "import matplotlib.pyplot as plt\n",
    "import math"
   ]
  },
  {
   "cell_type": "code",
   "execution_count": 2,
   "metadata": {},
   "outputs": [],
   "source": [
    "# After prototyping which to extract from the website, we write a fucntion\n",
    "# that loops over and extracts the needed data\n",
    "def extractSuns():\n",
    "    websiteURL = 'https://www.basketball-reference.com/playoffs/2021-nba-western-conference-semifinals-nuggets-vs-suns.html'\n",
    "    pageInstance = rq.get(websiteURL)\n",
    "    \n",
    "    soup = bs(pageInstance.content, 'html.parser')\n",
    "    rawFindings = soup.find(id='div_four_factors') # grab html elements with id=div_four_factors\n",
    "    "
   ]
  },
  {
   "cell_type": "code",
   "execution_count": null,
   "metadata": {},
   "outputs": [],
   "source": []
  }
 ],
 "metadata": {
  "kernelspec": {
   "display_name": "Python 3",
   "language": "python",
   "name": "python3"
  },
  "language_info": {
   "codemirror_mode": {
    "name": "ipython",
    "version": 3
   },
   "file_extension": ".py",
   "mimetype": "text/x-python",
   "name": "python",
   "nbconvert_exporter": "python",
   "pygments_lexer": "ipython3",
   "version": "3.8.5"
  }
 },
 "nbformat": 4,
 "nbformat_minor": 4
}
